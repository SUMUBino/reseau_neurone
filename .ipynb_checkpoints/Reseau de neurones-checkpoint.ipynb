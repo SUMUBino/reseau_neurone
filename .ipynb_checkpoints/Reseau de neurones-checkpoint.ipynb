{
 "cells": [
  {
   "cell_type": "code",
   "execution_count": 222,
   "id": "5f2a7690-e53c-4175-aaf8-2817a8059203",
   "metadata": {},
   "outputs": [],
   "source": [
    "import numpy as np\n",
    "import matplotlib.pyplot as plt\n",
    "from sklearn.datasets import make_blobs"
   ]
  },
  {
   "cell_type": "code",
   "execution_count": 224,
   "id": "9a9805fc-92b9-4e19-b911-188aba186616",
   "metadata": {},
   "outputs": [
    {
     "name": "stdout",
     "output_type": "stream",
     "text": [
      "elements de x:  (100, 2)\n",
      "elements de y:  (100, 1)\n"
     ]
    },
    {
     "data": {
      "image/png": "[encoded data removed]",
      "text/plain": [
       "<Figure size 640x480 with 1 Axes>"
      ]
     },
     "metadata": {},
     "output_type": "display_data"
    }
   ],
   "source": [
    "# d\n",
    "x, y = make_blobs(n_samples = 100, n_features = 2, centers = 2, random_state = 0)\n",
    "y = y.reshape ((y.shape[0], 1))\n",
    "\n",
    "print(\"elements de x: \", x.shape)\n",
    "print(\"elements de y: \", y.shape)\n",
    "\n",
    "plt.scatter(x[:,0],x[:,1], c=y, cmap = 'summer')\n",
    "plt.show()"
   ]
  },
  {
   "cell_type": "code",
   "execution_count": 226,
   "id": "e44063db-93bb-46f4-a256-876877a73654",
   "metadata": {},
   "outputs": [],
   "source": [
    "#creation de la fonction d'initialisation. elle permet d'initialiser les valeurs w1,w2...,wn et b\n",
    "def initialisation(x):\n",
    "    w= np.random.randn(x.shape[1], 1)\n",
    "    b = np.random.randn(1)\n",
    "    return (w, b)"
   ]
  },
  {
   "cell_type": "code",
   "execution_count": 252,
   "id": "6e3cba28-3feb-4bb8-a3a0-d612cf220f1a",
   "metadata": {},
   "outputs": [
    {
     "data": {
      "text/plain": [
       "array([[ 0.17158849],\n",
       "       [-0.02934782]])"
      ]
     },
     "execution_count": 252,
     "metadata": {},
     "output_type": "execute_result"
    }
   ],
   "source": [
    "w,b = initialisation(x)\n",
    "\n",
    "w"
   ]
  },
  {
   "cell_type": "code",
   "execution_count": 254,
   "id": "273a310c-f9c6-402f-9c59-a5a8c1441591",
   "metadata": {},
   "outputs": [],
   "source": [
    "#creation de la fonction de model\n",
    "def model (x, w, b):\n",
    "    z =  x.dot(w) + b\n",
    "    A = 1/ (1 + np.exp(-z))\n",
    "    return A"
   ]
  },
  {
   "cell_type": "code",
   "execution_count": 258,
   "id": "72c14fd8-31e1-42e6-b4ab-3e030decd6c7",
   "metadata": {},
   "outputs": [
    {
     "data": {
      "text/plain": [
       "array([[0.81101412],\n",
       "       [0.71922237],\n",
       "       [0.64605935],\n",
       "       [0.67816318],\n",
       "       [0.78904884],\n",
       "       [0.72402843],\n",
       "       [0.70117306],\n",
       "       [0.80394817],\n",
       "       [0.68610156],\n",
       "       [0.73243888],\n",
       "       [0.68465739],\n",
       "       [0.74427897],\n",
       "       [0.69985772],\n",
       "       [0.66426045],\n",
       "       [0.74175577],\n",
       "       [0.81844577],\n",
       "       [0.79407442],\n",
       "       [0.67583815],\n",
       "       [0.71349161],\n",
       "       [0.72645619],\n",
       "       [0.70162207],\n",
       "       [0.68663579],\n",
       "       [0.7216109 ],\n",
       "       [0.64866619],\n",
       "       [0.77197091],\n",
       "       [0.69206341],\n",
       "       [0.73518948],\n",
       "       [0.68760268],\n",
       "       [0.71216337],\n",
       "       [0.75710977],\n",
       "       [0.77232851],\n",
       "       [0.69890348],\n",
       "       [0.71780923],\n",
       "       [0.77288611],\n",
       "       [0.73021461],\n",
       "       [0.7402158 ],\n",
       "       [0.73263033],\n",
       "       [0.74319827],\n",
       "       [0.74484265],\n",
       "       [0.7017977 ],\n",
       "       [0.66847591],\n",
       "       [0.74258157],\n",
       "       [0.61999281],\n",
       "       [0.7168074 ],\n",
       "       [0.70397843],\n",
       "       [0.75668928],\n",
       "       [0.75991096],\n",
       "       [0.75105772],\n",
       "       [0.63326283],\n",
       "       [0.67578945],\n",
       "       [0.7553272 ],\n",
       "       [0.7099156 ],\n",
       "       [0.73870947],\n",
       "       [0.70681332],\n",
       "       [0.78103213],\n",
       "       [0.70046732],\n",
       "       [0.76892051],\n",
       "       [0.74000101],\n",
       "       [0.78130811],\n",
       "       [0.78227105],\n",
       "       [0.73021136],\n",
       "       [0.73243485],\n",
       "       [0.65132542],\n",
       "       [0.77347724],\n",
       "       [0.69457195],\n",
       "       [0.72761721],\n",
       "       [0.6697632 ],\n",
       "       [0.76650445],\n",
       "       [0.78484192],\n",
       "       [0.73295229],\n",
       "       [0.71470165],\n",
       "       [0.74566323],\n",
       "       [0.80510506],\n",
       "       [0.72329461],\n",
       "       [0.6793271 ],\n",
       "       [0.67729063],\n",
       "       [0.71650352],\n",
       "       [0.76905006],\n",
       "       [0.68242771],\n",
       "       [0.69469014],\n",
       "       [0.7152088 ],\n",
       "       [0.7071911 ],\n",
       "       [0.64407491],\n",
       "       [0.7244332 ],\n",
       "       [0.68708916],\n",
       "       [0.66251867],\n",
       "       [0.78444116],\n",
       "       [0.7340681 ],\n",
       "       [0.73299324],\n",
       "       [0.77376613],\n",
       "       [0.77432805],\n",
       "       [0.78427908],\n",
       "       [0.71813698],\n",
       "       [0.73073624],\n",
       "       [0.75062208],\n",
       "       [0.5944275 ],\n",
       "       [0.74639281],\n",
       "       [0.78329819],\n",
       "       [0.6385006 ],\n",
       "       [0.70880763]])"
      ]
     },
     "execution_count": 258,
     "metadata": {},
     "output_type": "execute_result"
    }
   ],
   "source": [
    "A = model(x,w,b)\n",
    "A"
   ]
  },
  {
   "cell_type": "code",
   "execution_count": 260,
   "id": "9c0b1aa6-4b6d-4f73-9937-2e50ebfc79ef",
   "metadata": {},
   "outputs": [],
   "source": [
    "# creation de la fonction log loss\n",
    "def log_loss(A, y):\n",
    "    return 1/len(y)* np.sum(-y*np.log(A) - (1-y)*np.log(1-A) )"
   ]
  },
  {
   "cell_type": "code",
   "execution_count": 264,
   "id": "5a2ae5ec-ce22-41ed-b777-ef18d83f560f",
   "metadata": {},
   "outputs": [
    {
     "data": {
      "text/plain": [
       "0.7420722129526022"
      ]
     },
     "execution_count": 264,
     "metadata": {},
     "output_type": "execute_result"
    }
   ],
   "source": [
    "log_loss(A,y)"
   ]
  },
  {
   "cell_type": "code",
   "execution_count": 266,
   "id": "3fc5697f-309c-46b9-9add-4515f7613e10",
   "metadata": {},
   "outputs": [],
   "source": [
    "# creation de la fonction du gradient\n",
    "def gradient(A,x,y):\n",
    "    dw = 1/len(y)*np.dot(x.T, A-y)\n",
    "    db = 1/len(y) * np.sum(A-y)\n",
    "    return (dw,db)"
   ]
  },
  {
   "cell_type": "code",
   "execution_count": 286,
   "id": "90764997-2a5d-453b-82a5-ffd8e9453a18",
   "metadata": {},
   "outputs": [
    {
     "name": "stdout",
     "output_type": "stream",
     "text": [
      "[[0.11235037]\n",
      " [1.36832583]]\n",
      "db = 0.22384155011613924\n"
     ]
    }
   ],
   "source": [
    "dw, db = gradient(A, x, y)\n",
    "print (dw)\n",
    "print ('db =',db)"
   ]
  },
  {
   "cell_type": "code",
   "execution_count": 288,
   "id": "f71ce8cd-01d1-478e-be75-568edef586cb",
   "metadata": {},
   "outputs": [],
   "source": [
    "# creation de la descente de gradient\n",
    "def update(dw,db,w,b,learning_rate):\n",
    "    w = w - learning_rate*dw\n",
    "    b = b - learning_rate*db\n",
    "    return (w,b)"
   ]
  },
  {
   "cell_type": "code",
   "execution_count": 315,
   "id": "79c616f6-02b3-423b-81d5-47ba6a50a91b",
   "metadata": {},
   "outputs": [],
   "source": [
    "# cette fonction est un neurone artificiel qui va apprendre 100 fois avec un pas d'appentissage de 0.1\n",
    "def artificial_neuron (x, y, learning_rate = 0.1, nbre_iteration = 100):\n",
    "    # initiallisation \n",
    "    w, b= initialisation (x)\n",
    "\n",
    "    Loss = []\n",
    "    for i in range(nbre_iteration):\n",
    "        A = model(x, w, b)\n",
    "        Loss.append(log_loss(A,y))\n",
    "        dw, db = gradient(A,x,y)\n",
    "        w,b = update(dw,db,w,b,learning_rate)\n",
    "    plt.plot(Loss)\n",
    "    plt.show\n",
    "\n"
   ]
  },
  {
   "cell_type": "code",
   "execution_count": 317,
   "id": "5f57858c-5bab-42ca-9298-2c8f15d1abb2",
   "metadata": {},
   "outputs": [
    {
     "data": {
      "image/png": "[encoded data removed]",
      "text/plain": [
       "<Figure size 640x480 with 1 Axes>"
      ]
     },
     "metadata": {},
     "output_type": "display_data"
    }
   ],
   "source": [
    "artificial_neuron(x,y)"
   ]
  },
  {
   "cell_type": "code",
   "execution_count": null,
   "id": "a48249b1-46d3-47aa-89a7-8be97afca387",
   "metadata": {},
   "outputs": [],
   "source": []
  }
 ],
 "metadata": {
  "kernelspec": {
   "display_name": "Python [conda env:base] *",
   "language": "python",
   "name": "conda-base-py"
  },
  "language_info": {
   "codemirror_mode": {
    "name": "ipython",
    "version": 3
   },
   "file_extension": ".py",
   "mimetype": "text/x-python",
   "name": "python",
   "nbconvert_exporter": "python",
   "pygments_lexer": "ipython3",
   "version": "3.12.7"
  }
 },
 "nbformat": 4,
 "nbformat_minor": 5
}
